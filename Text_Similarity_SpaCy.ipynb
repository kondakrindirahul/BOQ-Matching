{
 "cells": [
  {
   "cell_type": "markdown",
   "metadata": {},
   "source": [
    "Importing SpaCy and loading the english model."
   ]
  },
  {
   "cell_type": "code",
   "execution_count": 18,
   "metadata": {
    "collapsed": true
   },
   "outputs": [],
   "source": [
    "import spacy\n",
    "nlp = spacy.load('en')"
   ]
  },
  {
   "cell_type": "markdown",
   "metadata": {},
   "source": [
    "Importing xlrd package to extract the contents of excel file\n",
    "into the python code."
   ]
  },
  {
   "cell_type": "code",
   "execution_count": 2,
   "metadata": {
    "collapsed": true
   },
   "outputs": [],
   "source": [
    "import xlrd\n",
    "workbook = xlrd.open_workbook('master_boq_from_table.xls')"
   ]
  },
  {
   "cell_type": "code",
   "execution_count": 3,
   "metadata": {},
   "outputs": [
    {
     "data": {
      "text/plain": [
       "['Sheet1']"
      ]
     },
     "execution_count": 3,
     "metadata": {},
     "output_type": "execute_result"
    }
   ],
   "source": [
    "workbook.sheet_names()"
   ]
  },
  {
   "cell_type": "code",
   "execution_count": 4,
   "metadata": {
    "collapsed": true
   },
   "outputs": [],
   "source": [
    "worksheet = workbook.sheet_by_name('Sheet1')"
   ]
  },
  {
   "cell_type": "markdown",
   "metadata": {},
   "source": [
    "Obtaining the Column values (features) from the excel sheet"
   ]
  },
  {
   "cell_type": "code",
   "execution_count": 26,
   "metadata": {},
   "outputs": [],
   "source": [
    "columns = []\n",
    "n = worksheet.ncols\n",
    "\n",
    "for i in range(0, n):\n",
    "    columns.append(worksheet.cell(0, i))\n",
    "\n",
    "# print(columns)"
   ]
  },
  {
   "cell_type": "markdown",
   "metadata": {},
   "source": [
    "Extracting all the BOQ_codes from the boq_codes \n",
    "column in the excel sheet"
   ]
  },
  {
   "cell_type": "code",
   "execution_count": 25,
   "metadata": {},
   "outputs": [],
   "source": [
    "boq_codes = []\n",
    "\n",
    "for i in range(0, worksheet.nrows):\n",
    "    boq_codes.append(worksheet.cell(i, 0))\n",
    "#print(boq_codes)    "
   ]
  },
  {
   "cell_type": "markdown",
   "metadata": {},
   "source": [
    "Extracting the types of units used in the BOQ descriptions"
   ]
  },
  {
   "cell_type": "code",
   "execution_count": 7,
   "metadata": {
    "collapsed": true
   },
   "outputs": [],
   "source": [
    "boq_units_description = []\n",
    "\n",
    "for i in range(0, worksheet.nrows):\n",
    "    boq_units_description.append(worksheet.cell(i, 4))\n",
    "\n",
    "# print(boq_units_description)"
   ]
  },
  {
   "cell_type": "markdown",
   "metadata": {},
   "source": [
    "creating a dictionary where the key is the Master_BOQ_Id \n",
    "and value is the Master_BOQ_Description"
   ]
  },
  {
   "cell_type": "code",
   "execution_count": 8,
   "metadata": {
    "collapsed": true
   },
   "outputs": [],
   "source": [
    "description_dict = {}\n",
    "\n",
    "for i in range(1, worksheet.nrows):\n",
    "    description_dict[boq_codes[i]] = worksheet.cell(i, 2)\n",
    "\n",
    "# for each in description_dict.keys():\n",
    "#     print(each)\n",
    "#     print(description_dict[each])"
   ]
  },
  {
   "cell_type": "markdown",
   "metadata": {},
   "source": [
    "Using the similarity function provided by SpaCy, \n",
    "we calculate the similarity between a given Project_BOQ_description\n",
    "and all the Master_BOQ_Descriptions.\n",
    "\n",
    "The top 100 ranked documents are shown in the output."
   ]
  },
  {
   "cell_type": "code",
   "execution_count": null,
   "metadata": {
    "collapsed": true
   },
   "outputs": [],
   "source": [
    "import operator\n",
    "\n",
    "sentence = (input('enter the project_boq : '))\n",
    "query = nlp(sentence)\n",
    "doc_score = {}\n",
    "\n",
    "for each in description_dict.keys():\n",
    "    text = nlp(str(description_dict[each]))\n",
    "#     query.similarity(text)\n",
    "    \n",
    "    doc_score[description_dict[each]] = query.similarity(text)\n",
    "\n",
    "# for each in doc_score.keys():\n",
    "#     print(each, end = ':')\n",
    "#     print(doc_score[each])\n",
    "#     print('\\n')\n",
    "\n",
    "sorted_doc_score = sorted(doc_score.items(), key=operator.itemgetter(1), reverse = True)\n",
    "\n",
    "for i in range(0,101):\n",
    "    print(sorted_doc_score[i])\n",
    "\n",
    "\n",
    "\n"
   ]
  }
 ],
 "metadata": {
  "kernelspec": {
   "display_name": "Python 3",
   "language": "python",
   "name": "python3"
  },
  "language_info": {
   "codemirror_mode": {
    "name": "ipython",
    "version": 3
   },
   "file_extension": ".py",
   "mimetype": "text/x-python",
   "name": "python",
   "nbconvert_exporter": "python",
   "pygments_lexer": "ipython3",
   "version": "3.6.1"
  }
 },
 "nbformat": 4,
 "nbformat_minor": 2
}
